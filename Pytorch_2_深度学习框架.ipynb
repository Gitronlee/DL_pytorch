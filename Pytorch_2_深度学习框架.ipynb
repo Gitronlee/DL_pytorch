{
  "nbformat": 4,
  "nbformat_minor": 0,
  "metadata": {
    "colab": {
      "name": "Pytorch_2_深度学习框架.ipynb",
      "version": "0.3.2",
      "provenance": []
    },
    "kernelspec": {
      "name": "python3",
      "display_name": "Python 3"
    }
  },
  "cells": [
    {
      "cell_type": "markdown",
      "metadata": {
        "id": "swZjJuG24ED2",
        "colab_type": "text"
      },
      "source": [
        "## 2 深度学习框架\n",
        "#### 2.1 框架介绍：\n",
        "##### tensorflow：\n",
        " Google、c++，使用人数最多最庞大社区，有着python和c++接口，基于tensorflow的几个第三方库有 keras、tflearn、tfslim、tensorlayer等\n",
        "##### Caffe:\n",
        "对卷积神经网络的支持特别好，c++写的，无python接口仅提供了c++接口。\n",
        "##### Theano：\n",
        "tensorflow更像是Theano的孩子。\n",
        "##### Torch：\n",
        "facebook、pytorch的前身、更加灵活，支持动态图、python接口\n",
        "##### MXNet：\n",
        "李沐、亚马逊各种语言接口、教程不够完善社区较小。\n",
        "#### 2.2 pytorch 介绍\n",
        "##### 2.2.1 什么是pytorch\n",
        "python开发、强大的GPU加速、动态神经网络、tensorflow（原不支持）\n",
        "可以看作是加入了GPU支持的numpy，拥有自动求导的强大的深度神经网络。\n",
        "##### 2.2.2 为何学pytorch\n",
        "多学一个框架，以备不时之需。（tensorflow 0.0）\n",
        "动态的，可以让你零延迟的任意改变神经网络的行为。灵活性\n",
        "设计思路线性，易于使用。\n",
        "相比于tensorflow更加直观简洁。轻松扩展。\n",
        "#### 2.3 配置环境\n",
        "安装Nvidia Cuda,安装CuDNN,安装GPU版本的PyTorch.\n",
        "anaconda、本书 py3.6 设置清华源修改channels：https://mirrors.tuna.tsinghua.edu.cn/anaconda/pkgs/free/\n",
        "谷歌免费的的colab已有PyTorch环境,可用来入门 https://colab.research.google.com/drive/   修改笔记本设置为GPU\n"
      ]
    },
    {
      "cell_type": "markdown",
      "metadata": {
        "id": "NS7t74cX4DAk",
        "colab_type": "text"
      },
      "source": [
        ""
      ]
    }
  ]
}