{
  "nbformat": 4,
  "nbformat_minor": 0,
  "metadata": {
    "colab": {
      "name": "One_dLineRe.ipynb",
      "version": "0.3.2",
      "provenance": [],
      "collapsed_sections": [],
      "include_colab_link": true
    },
    "kernelspec": {
      "name": "python3",
      "display_name": "Python 3"
    },
    "accelerator": "GPU"
  },
  "cells": [
    {
      "cell_type": "markdown",
      "metadata": {
        "id": "view-in-github",
        "colab_type": "text"
      },
      "source": [
        "<a href=\"https://colab.research.google.com/github/Gitronlee/DL_pytorch/blob/master/One_dLineRe.ipynb\" target=\"_parent\"><img src=\"https://colab.research.google.com/assets/colab-badge.svg\" alt=\"Open In Colab\"/></a>"
      ]
    },
    {
      "cell_type": "code",
      "metadata": {
        "id": "Iezmz6xqL_cV",
        "colab_type": "code",
        "colab": {
          "base_uri": "https://localhost:8080/",
          "height": 1169
        },
        "outputId": "d56bad1b-4d3d-477a-cca6-8f71c1d73cda"
      },
      "source": [
        "# 书里还是有一些错误，一没有导入必要的包二有些代码报错\n",
        "import numpy as np\n",
        "import torch\n",
        "from torch import nn, optim\n",
        "from torch.autograd import Variable\n",
        "import matplotlib.pyplot as plt\n",
        "\n",
        "x_train = np.array([[3.3],[4.4],[5.5],[6.71],[6.93],[4.168],[9.779],[6.182],[7.59],[2.167],[7.042],[10.791],[5.313],[7.997],[3.1]], dtype = np.float32)\n",
        "y_train = np.array([[1.7],[2.76],[2.09],[3.19],[1.694],[1.573],[3.366],[2.596],[2.53],[1.221],[2.827],[3.165],[1.65],[2.904],[1.3]], dtype = np.float32)\n",
        "             \n",
        "x_train = torch.from_numpy(x_train)\n",
        "y_train = torch.from_numpy(y_train)\n",
        "                    \n",
        "class LinearRegression(nn.Module):\n",
        "    def __init__(self):\n",
        "        super(LinearRegression, self).__init__()\n",
        "        self.Linear = nn.Linear(1, 1)# 应为Linear 而非 linear\n",
        "    def forward(self, x):\n",
        "        out = self.Linear(x)\n",
        "        return out\n",
        "if torch.cuda.is_available():\n",
        "    model = LinearRegression().cuda()\n",
        "else:\n",
        "    model = LinearRegression()\n",
        "    \n",
        "criterion = nn.MSELoss()\n",
        "optimizer = optim.SGD(model.parameters(), lr = 1e-3)\n",
        "\n",
        "num_epochs = 1000\n",
        "for epoch in range(num_epochs):\n",
        "    if torch.cuda.is_available():\n",
        "        inputs = Variable(x_train).cuda()\n",
        "        target = Variable(y_train).cuda()\n",
        "    else:\n",
        "        inputs = Variable(x_train)\n",
        "        target = Variable(y_train)\n",
        "    \n",
        "    out = model(inputs)\n",
        "    loss = criterion(out, target)\n",
        "    \n",
        "    optimizer.zero_grad()\n",
        "    loss.backward()\n",
        "    optimizer.step()\n",
        "    \n",
        "    if (epoch+1) % 20 == 0:\n",
        "        print('Epoch[{}/{}], loss: {:.6f}'.format(epoch+1,num_epochs, loss.item()))\n",
        "        \n",
        "model.eval()\n",
        "predict = model(Variable(x_train).cuda())#做预测时，由于之前用cuda这里也要转一下，但是转为numpy时需要先转回cpu\n",
        "predict = predict.data.cpu().numpy()\n",
        "\n",
        "plt.plot(x_train.numpy(), y_train.numpy(), 'ro', label = 'Original data')\n",
        "plt.plot(x_train.numpy(), predict, label = 'Fitting Line')\n",
        "plt.show()"
      ],
      "execution_count": 26,
      "outputs": [
        {
          "output_type": "stream",
          "text": [
            "Epoch[20/1000], loss: 0.925872\n",
            "Epoch[40/1000], loss: 0.470991\n",
            "Epoch[60/1000], loss: 0.455934\n",
            "Epoch[80/1000], loss: 0.452752\n",
            "Epoch[100/1000], loss: 0.449919\n",
            "Epoch[120/1000], loss: 0.447124\n",
            "Epoch[140/1000], loss: 0.444357\n",
            "Epoch[160/1000], loss: 0.441618\n",
            "Epoch[180/1000], loss: 0.438907\n",
            "Epoch[200/1000], loss: 0.436225\n",
            "Epoch[220/1000], loss: 0.433569\n",
            "Epoch[240/1000], loss: 0.430941\n",
            "Epoch[260/1000], loss: 0.428339\n",
            "Epoch[280/1000], loss: 0.425764\n",
            "Epoch[300/1000], loss: 0.423216\n",
            "Epoch[320/1000], loss: 0.420693\n",
            "Epoch[340/1000], loss: 0.418197\n",
            "Epoch[360/1000], loss: 0.415725\n",
            "Epoch[380/1000], loss: 0.413279\n",
            "Epoch[400/1000], loss: 0.410858\n",
            "Epoch[420/1000], loss: 0.408462\n",
            "Epoch[440/1000], loss: 0.406091\n",
            "Epoch[460/1000], loss: 0.403743\n",
            "Epoch[480/1000], loss: 0.401420\n",
            "Epoch[500/1000], loss: 0.399120\n",
            "Epoch[520/1000], loss: 0.396844\n",
            "Epoch[540/1000], loss: 0.394591\n",
            "Epoch[560/1000], loss: 0.392361\n",
            "Epoch[580/1000], loss: 0.390154\n",
            "Epoch[600/1000], loss: 0.387969\n",
            "Epoch[620/1000], loss: 0.385807\n",
            "Epoch[640/1000], loss: 0.383667\n",
            "Epoch[660/1000], loss: 0.381549\n",
            "Epoch[680/1000], loss: 0.379452\n",
            "Epoch[700/1000], loss: 0.377377\n",
            "Epoch[720/1000], loss: 0.375323\n",
            "Epoch[740/1000], loss: 0.373290\n",
            "Epoch[760/1000], loss: 0.371278\n",
            "Epoch[780/1000], loss: 0.369286\n",
            "Epoch[800/1000], loss: 0.367315\n",
            "Epoch[820/1000], loss: 0.365364\n",
            "Epoch[840/1000], loss: 0.363433\n",
            "Epoch[860/1000], loss: 0.361521\n",
            "Epoch[880/1000], loss: 0.359629\n",
            "Epoch[900/1000], loss: 0.357757\n",
            "Epoch[920/1000], loss: 0.355903\n",
            "Epoch[940/1000], loss: 0.354069\n",
            "Epoch[960/1000], loss: 0.352253\n",
            "Epoch[980/1000], loss: 0.350456\n",
            "Epoch[1000/1000], loss: 0.348677\n"
          ],
          "name": "stdout"
        },
        {
          "output_type": "display_data",
          "data": {
            "image/png": "[encoded data removed]",
            "text/plain": [
              "<Figure size 432x288 with 1 Axes>"
            ]
          },
          "metadata": {
            "tags": []
          }
        }
      ]
    }
  ]
}