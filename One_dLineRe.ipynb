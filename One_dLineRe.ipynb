{
  "nbformat": 4,
  "nbformat_minor": 0,
  "metadata": {
    "colab": {
      "name": "One_dLineRe.ipynb",
      "version": "0.3.2",
      "provenance": [],
      "collapsed_sections": [],
      "include_colab_link": true
    },
    "kernelspec": {
      "name": "python3",
      "display_name": "Python 3"
    },
    "accelerator": "TPU"
  },
  "cells": [
    {
      "cell_type": "markdown",
      "metadata": {
        "id": "view-in-github",
        "colab_type": "text"
      },
      "source": [
        "<a href=\"https://colab.research.google.com/github/Gitronlee/DL_pytorch/blob/master/One_dLineRe.ipynb\" target=\"_parent\"><img src=\"https://colab.research.google.com/assets/colab-badge.svg\" alt=\"Open In Colab\"/></a>"
      ]
    },
    {
      "cell_type": "code",
      "metadata": {
        "id": "Iezmz6xqL_cV",
        "colab_type": "code",
        "colab": {}
      },
      "source": [
        "# 书里还是有一些错误，一没有导入必要的包二有些代码报错\n",
        "import numpy as np\n",
        "import torch\n",
        "from torch import nn, optim\n",
        "from torch.autograd import Variable\n",
        "import matplotlib.pyplot as plt\n",
        "\n",
        "\n",
        "x_train = np.array([[3.3],[4.4],[5.5],[6.71],[6.93],[4.168],[9.779],[6.182],[7.59],[2.167],[7.042],[10.791],[5.313],[7.997],[3.1]], dtype = np.float32)\n",
        "y_train = np.array([[1.7],[2.76],[2.09],[3.19],[1.694],[1.573],[3.366],[2.596],[2.53],[1.221],[2.827],[3.165],[1.65],[2.904],[1.3]], dtype = np.float32)\n",
        "             \n",
        "x_train = torch.from_numpy(x_train)\n",
        "y_train = torch.from_numpy(y_train)\n",
        "                    \n",
        "class LinearRegression(nn.Module):\n",
        "    def __init__(self):\n",
        "        super(LinearRegression, self).__init__()\n",
        "        self.Linear = nn.Linear(1, 1)# 应为Linear 而非 linear\n",
        "    def forward(self, x):\n",
        "        out = self.Linear(x)\n",
        "        return out\n",
        "if torch.cuda.is_available():\n",
        "    model = LinearRegression().cuda()\n",
        "else:\n",
        "    model = LinearRegression()\n",
        "    \n",
        "criterion = nn.MSELoss()\n",
        "optimizer = optim.SGD(model.parameters(), lr = 1e-3)\n",
        "\n",
        "num_epochs = 1000\n",
        "for epoch in range(num_epochs):\n",
        "    if torch.cuda.is_available():\n",
        "        inputs = Variable(x_train).cuda()\n",
        "        target = Variable(y_train).cuda()\n",
        "    else:\n",
        "        inputs = Variable(x_train)\n",
        "        target = Variable(y_train)\n",
        "    \n",
        "    out = model(inputs)\n",
        "    loss = criterion(out, target)\n",
        "    \n",
        "    optimizer.zero_grad()\n",
        "    loss.backward()\n",
        "    optimizer.step()\n",
        "    \n",
        "    if (epoch+1) % 20 == 0:\n",
        "        print('Epoch[{}/{}], loss: {:.6f}'.format(epoch+1,num_epochs, loss.item()))#这里是item 而非data[0]\n",
        "        \n",
        "model.eval()\n",
        "if torch.cuda.is_available():\n",
        "    predict = model(Variable(x_train).cuda())# 硬件为GPU时：做预测时，由于之前用cuda这里也要转一下，但是转为numpy时需要先转回cpu\n",
        "    predict = predict.data.cpu().numpy()\n",
        "else:\n",
        "    predict = model(Variable(x_train))#非GPU时\n",
        "    predict = predict.data.numpy()\n",
        "\n",
        "plt.plot(x_train.numpy(), y_train.numpy(), 'ro', label = 'Original data')\n",
        "plt.plot(x_train.numpy(), predict, label = 'Fitting Line')\n",
        "plt.show()"
      ],
      "execution_count": 0,
      "outputs": []
    },
    {
      "cell_type": "code",
      "metadata": {
        "id": "tSghr2hGYJOt",
        "colab_type": "code",
        "colab": {}
      },
      "source": [
        "from tensorflow.python.client import device_lib\n",
        "\n",
        "device_lib.list_local_devices()\n",
        "import tensorflow as tf\n",
        "tf.test.gpu_device_name()"
      ],
      "execution_count": 0,
      "outputs": []
    }
  ]
}