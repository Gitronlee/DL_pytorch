{
  "nbformat": 4,
  "nbformat_minor": 0,
  "metadata": {
    "colab": {
      "name": "Variable.ipynb",
      "version": "0.3.2",
      "provenance": [],
      "include_colab_link": true
    },
    "kernelspec": {
      "name": "python3",
      "display_name": "Python 3"
    },
    "accelerator": "GPU"
  },
  "cells": [
    {
      "cell_type": "markdown",
      "metadata": {
        "id": "view-in-github",
        "colab_type": "text"
      },
      "source": [
        "<a href=\"https://colab.research.google.com/github/Gitronlee/DL_pytorch/blob/master/Variable.ipynb\" target=\"_parent\"><img src=\"https://colab.research.google.com/assets/colab-badge.svg\" alt=\"Open In Colab\"/></a>"
      ]
    },
    {
      "cell_type": "code",
      "metadata": {
        "id": "IrQtNMvsogfY",
        "colab_type": "code",
        "outputId": "8a8f1841-2ea6-41fa-914c-2fc49ba87f7b",
        "colab": {
          "base_uri": "https://localhost:8080/",
          "height": 71
        }
      },
      "source": [
        "import torch\n",
        "import numpy as np\n",
        "from torch.autograd import Variable\n",
        "\n",
        "x = Variable(torch.Tensor([5]), requires_grad = True)\n",
        "w = Variable(torch.Tensor([6]), requires_grad = True)\n",
        "b = Variable(torch.Tensor([7]), requires_grad = True)\n",
        "\n",
        "y = w * x + b\n",
        "y.backward()\n",
        "\n",
        "print(x.grad)\n",
        "print(w.grad)\n",
        "print(b.grad)\n",
        "x = torch.randn(3)\n",
        "x = Variable(x,requires_grad = True)\n",
        "y = x * 2\n",
        "print(y)\n",
        "y.backward(torch.FloatTensor([1, 0.1, 0.01]))#每个分量的梯度乘上1,0.1,0.01\n",
        "print(x.grad)"
      ],
      "execution_count": 0,
      "outputs": [
        {
          "output_type": "stream",
          "text": [
            "tensor([6.])\n",
            "tensor([5.])\n",
            "tensor([1.])\n"
          ],
          "name": "stdout"
        }
      ]
    }
  ]
}