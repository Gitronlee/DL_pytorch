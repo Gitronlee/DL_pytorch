{
  "nbformat": 4,
  "nbformat_minor": 0,
  "metadata": {
    "colab": {
      "name": "Pytorch_1_深度学习介绍.ipynb",
      "version": "0.3.2",
      "provenance": []
    },
    "kernelspec": {
      "name": "python3",
      "display_name": "Python 3"
    }
  },
  "cells": [
    {
      "cell_type": "code",
      "metadata": {
        "id": "BGLQ7VtL3P1A",
        "colab_type": "code",
        "colab": {}
      },
      "source": [
        ""
      ],
      "execution_count": 0,
      "outputs": []
    },
    {
      "cell_type": "markdown",
      "metadata": {
        "id": "5Or5ymcD3YbW",
        "colab_type": "text"
      },
      "source": [
        "--- 《深度学习入门之pytorch》de 笔记\n",
        "\n",
        "\n",
        "\n",
        "## 1 深度学习介绍\n",
        "#### 1.1 人工智能\n",
        "#### 1.2 数据挖掘、机器学习、深度学习\n",
        "###### 1.2.1 数据挖掘\n",
        "从数据中挖掘到有意义的信息，寻找数据之间的特性。处理数据、预处理数据、分析和挖掘、可视化、可用信息。\n",
        "###### 1.2.2 机器学习\n",
        "监督学习、无监督学习、半监督学习、迁移学习、增强学习（通过观察周围环境学习）\n",
        "###### 1.2.3 深度学习  \n",
        "目前比较流行的网络结构有：深度神经网络DNN、卷积神经网络CNN、循环递归神经网络RNN、生成对抗网络GAN等等\n",
        "#### 1.3 学习资源与建议\n",
        "理论和工程相结合。python、微积分、线性代数基础。机器学习基础 吴恩达、林轩田、udacity、周志华、李航。深度学习course NNFML，231,224。\n"
      ]
    }
  ]
}